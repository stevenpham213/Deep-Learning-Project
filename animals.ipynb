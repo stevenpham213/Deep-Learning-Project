{
  "cells": [
    {
      "cell_type": "markdown",
      "metadata": {
        "id": "x_d1xt3_ANGe"
      },
      "source": [
        "# CECS 456 Deep Learning Project\n",
        "\n",
        "## Imports"
      ]
    },
    {
      "cell_type": "code",
      "execution_count": null,
      "metadata": {
        "id": "tk-wKeNMANGf"
      },
      "outputs": [],
      "source": [
        "import tensorflow as tf\n",
        "from tensorflow.keras.models import Sequential\n",
        "from tensorflow.keras.layers import Dense, Dropout, GlobalAveragePooling2D\n",
        "from tensorflow.keras.preprocessing.image import ImageDataGenerator\n",
        "from sklearn.model_selection import train_test_split\n",
        "import numpy as np\n",
        "import os\n",
        "import matplotlib.pyplot as plt\n",
        "from collections import Counter\n",
        "import random\n",
        "from google.colab import drive\n",
        "drive.mount(\"/content/drive\")\n",
        "! kaggle datasets download -d alessiocorrado99/animals10\n",
        "\n",
        "! unzip /content/animals10.zip\n"
      ]
    },
    {
      "cell_type": "markdown",
      "metadata": {
        "id": "7PAMH3VCANGh"
      },
      "source": [
        "## Define constants"
      ]
    },
    {
      "cell_type": "code",
      "execution_count": null,
      "metadata": {
        "id": "EK9wF5lOANGh"
      },
      "outputs": [],
      "source": [
        "\n",
        "imgSize = 128\n",
        "batchSize = 32\n",
        "animalsCnt = 10\n",
        "epochs = 10\n",
        "datasetPath = \"raw-img\" # Path to images\n",
        "\n",
        "#Translation\n",
        "translate = {\"cane\": \"dog\", \"cavallo\": \"horse\", \"elefante\": \"elephant\", \"farfalla\": \"butterfly\", \"gallina\": \"chicken\", \"gatto\": \"cat\", \"mucca\": \"cow\", \"pecora\": \"sheep\", \"scoiattolo\": \"squirrel\", \"dog\": \"cane\", \"cavallo\": \"horse\", \"elephant\" : \"elefante\", \"butterfly\": \"farfalla\", \"chicken\": \"gallina\", \"cat\": \"gatto\", \"cow\": \"mucca\", \"spider\": \"ragno\", \"squirrel\": \"scoiattolo\"}\n"
      ]
    },
    {
      "cell_type": "markdown",
      "metadata": {
        "id": "G1uaD7WvANGi"
      },
      "source": [
        "## Data preparation & load dataset"
      ]
    },
    {
      "cell_type": "code",
      "execution_count": null,
      "metadata": {
        "id": "kA6iZJoHANGj"
      },
      "outputs": [],
      "source": [
        "\n",
        "# Data augmentation\n",
        "datagen = ImageDataGenerator(\n",
        "    rescale = 1./255,\n",
        "    validation_split = 0.15,\n",
        "    horizontal_flip = True,\n",
        "    zoom_range = 0.2,\n",
        ")\n",
        "\n",
        "# Load training data\n",
        "train_data = datagen.flow_from_directory(\n",
        "    datasetPath,\n",
        "    target_size = (imgSize, imgSize),\n",
        "    batch_size = batchSize,\n",
        "    class_mode = 'categorical',\n",
        "    subset = 'training',\n",
        "    shuffle = True\n",
        ")\n",
        "\n",
        "# Load validation data\n",
        "val_data = datagen.flow_from_directory(\n",
        "    datasetPath,\n",
        "    target_size = (imgSize, imgSize),\n",
        "    batch_size = batchSize,\n",
        "    class_mode = 'categorical',\n",
        "    subset = 'validation',\n",
        "    shuffle = True\n",
        ")"
      ]
    },
    {
      "cell_type": "markdown",
      "metadata": {
        "id": "CuIdTZqYANGl"
      },
      "source": [
        "# Visualize dataset distribution across classes"
      ]
    },
    {
      "cell_type": "code",
      "execution_count": null,
      "metadata": {
        "id": "EpWuMKUiANGm"
      },
      "outputs": [],
      "source": [
        "\n",
        "# Display image distribution across dataset\n",
        "classes = train_data.class_indices\n",
        "class_counts = Counter(train_data.classes)\n",
        "\n",
        "plt.figure(figsize=(10, 6))\n",
        "plt.bar(classes.keys(), class_counts.values(), color='skyblue')\n",
        "plt.xlabel('Animal Classes')\n",
        "plt.ylabel('Number of Images')\n",
        "plt.title('Dataset Distribution')\n",
        "plt.xticks(rotation = 45)\n",
        "plt.tight_layout()\n",
        "plt.show()\n"
      ]
    },
    {
      "cell_type": "markdown",
      "metadata": {
        "id": "MaH8wmyMANGm"
      },
      "source": [
        "## Examples from dataset"
      ]
    },
    {
      "cell_type": "code",
      "execution_count": null,
      "metadata": {
        "id": "B6_7fKYDANGn"
      },
      "outputs": [],
      "source": [
        "# Display images from the dataset with class labels\n",
        "plt.figure(figsize=(12, 12))\n",
        "for i, (image, label) in enumerate(train_data):\n",
        "    if i >= 9:\n",
        "        break\n",
        "    plt.subplot(3, 3, i + 1)\n",
        "    plt.imshow(image[0])\n",
        "    translatedLabel = [k for k, v in classes.items() if v == np.argmax(label[0])][0]\n",
        "    plt.title(f\"Class: {translate.get(translatedLabel, translatedLabel)}\")\n",
        "    plt.axis('off')\n",
        "plt.tight_layout()\n",
        "plt.show()\n"
      ]
    },
    {
      "cell_type": "markdown",
      "metadata": {
        "id": "ESexjIwFANGn"
      },
      "source": [
        "# Define, build, and compile the model for training"
      ]
    },
    {
      "cell_type": "code",
      "execution_count": null,
      "metadata": {
        "id": "ruYnN9yqANGn"
      },
      "outputs": [],
      "source": [
        "from tensorflow.keras.applications import VGG16\n",
        "from tensorflow.keras.optimizers import Adam\n",
        "\n",
        "# Define VGG Model\n",
        "vggModel = VGG16(weights = 'imagenet', include_top = False, input_shape = (imgSize, imgSize, 3))\n",
        "for layer in vggModel.layers[:-4]: # Freeze layers from vggModel\n",
        "    layer.trainable = False\n",
        "\n",
        "\n",
        "model = Sequential([\n",
        "    vggModel,\n",
        "    GlobalAveragePooling2D(),\n",
        "    Dense(256, activation = 'relu'),\n",
        "    Dropout(0.5),\n",
        "    Dense(animalsCnt, activation = 'softmax')\n",
        "])\n",
        "\n",
        "model.compile(optimizer = Adam(learning_rate=0.0001), loss = 'categorical_crossentropy', metrics = ['accuracy'])\n",
        "\n",
        "model.summary()"
      ]
    },
    {
      "cell_type": "code",
      "execution_count": null,
      "metadata": {
        "colab": {
          "background_save": true
        },
        "id": "bEH4yC-3ANGn"
      },
      "outputs": [],
      "source": [
        "from tensorflow.keras.callbacks import EarlyStopping\n",
        "\n",
        "earlyStopping = EarlyStopping(monitor = 'val_loss', min_delta = 0, patience = 3) # EarlyStopping after validation checks\n",
        "\n",
        "\n",
        "history = model.fit(train_data, epochs = epochs, validation_data = val_data, callbacks = [earlyStopping]) # Training the model\n"
      ]
    },
    {
      "cell_type": "markdown",
      "metadata": {
        "id": "xtXjgfK7ANGn"
      },
      "source": [
        "## Evaluate accuracy and total loss on training data"
      ]
    },
    {
      "cell_type": "code",
      "execution_count": null,
      "metadata": {
        "id": "HokKO3i5ANGn"
      },
      "outputs": [],
      "source": [
        "\n",
        "total_loss, total_accuracy = model.evaluate(train_data) # Evaluation of accuracy and loss\n",
        "print(\"Accuracy on Training Set: \", total_accuracy)\n",
        "print(\"Total loss on Training Set: \", total_loss)"
      ]
    },
    {
      "cell_type": "markdown",
      "metadata": {
        "id": "hfVFr7j5ANGn"
      },
      "source": [
        "## Plot training and validation accuracy/loss"
      ]
    },
    {
      "cell_type": "code",
      "execution_count": null,
      "metadata": {
        "id": "-OqO9dD4ANGo"
      },
      "outputs": [],
      "source": [
        "#Training and validation accuracy\n",
        "plt.plot(history.history['accuracy'], label='Training Accuracy')\n",
        "plt.plot(history.history['val_accuracy'], label='Validation Accuracy')\n",
        "plt.xlabel('Epochs')\n",
        "plt.ylabel('Accuracy')\n",
        "plt.legend()\n",
        "plt.title('Training and Validation Accuracy')\n",
        "plt.show()\n",
        "\n",
        "#Training and validation loss\n",
        "plt.plot(history.history['loss'], label='Training Loss')\n",
        "plt.plot(history.history['val_loss'], label='Validation Loss')\n",
        "plt.xlabel('Epochs')\n",
        "plt.ylabel('Loss')\n",
        "plt.legend()\n",
        "plt.title('Training and Validation Loss')\n",
        "plt.show()\n"
      ]
    },
    {
      "cell_type": "markdown",
      "metadata": {
        "id": "l1cet4EAANGo"
      },
      "source": [
        "## Predictions on validation images"
      ]
    },
    {
      "cell_type": "code",
      "execution_count": null,
      "metadata": {
        "id": "WnJZ1srCANGo"
      },
      "outputs": [],
      "source": [
        "\n",
        "plt.figure(figsize=(12, 12)) # set size of figure\n",
        "for i, (image, label) in enumerate(val_data):\n",
        "    if i >= 9:\n",
        "        break\n",
        "    pred = model.predict(image) # get prediction\n",
        "    predicted_class = [k for k, v in classes.items() if v == np.argmax(pred[0])][0] # get predicted classes\n",
        "    actual_class = [k for k, v in classes.items() if v == np.argmax(label[0])][0] # get actual classes\n",
        "    plt.subplot(3, 3, i + 1)\n",
        "    plt.imshow(image[0])\n",
        "    plt.title(f\"Actual: {translate.get(actual_class, actual_class)}, Pred: {translate.get(predicted_class, predicted_class)}\")\n",
        "    plt.axis('off')\n",
        "plt.tight_layout()\n",
        "plt.show()"
      ]
    }
  ],
  "metadata": {
    "accelerator": "GPU",
    "colab": {
      "gpuType": "T4",
      "provenance": []
    },
    "kernelspec": {
      "display_name": "Python 3",
      "name": "python3"
    },
    "language_info": {
      "codemirror_mode": {
        "name": "ipython",
        "version": 3
      },
      "file_extension": ".py",
      "mimetype": "text/x-python",
      "name": "python",
      "nbconvert_exporter": "python",
      "pygments_lexer": "ipython3",
      "version": "3.12.8"
    }
  },
  "nbformat": 4,
  "nbformat_minor": 0
}